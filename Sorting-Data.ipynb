{
    "metadata": {
        "kernelspec": {
            "name": "SQL",
            "display_name": "SQL",
            "language": "sql"
        },
        "language_info": {
            "name": "sql",
            "version": ""
        }
    },
    "nbformat_minor": 2,
    "nbformat": 4,
    "cells": [
        {
            "cell_type": "markdown",
            "source": [
                "# Sortering af data\n",
                "\n",
                "- Indtil nu: hente en liste over kolonner fra en tabel og filtrerer resultaterne.\n",
                "    \n",
                "- Nu: sortering af data\n",
                "    \n",
                "- ORDER BY-clause.\n",
                "    \n",
                "- ORDER BY-klausulen er den sidste del af SELECT-sætningen, som behandles.\n",
                "    \n",
                "- Du kan angive en eller flere kolonner i ORDER BY-klausulen adskilt af kommaer.\n",
                "    \n",
                "- Sorteringsrækkefølgen er stigende som standard, men du kan specificere faldende rækkefølge ved hjælp af nøgleordet DESCENDING eller DESC efter kolonnenavnet. \n",
                "\n",
                "-Du kan også angive ASCENDING eller ASC, hvis du ønsker det, men sorteringsrækkefølgen stiger som standard, så det ikke er nødvendigt.\n",
                "    \n",
                "- **Her er syntaksen for en forespørgsel ved hjælp af ORDER BY:**\n",
                "    \n",
                "    ```\n",
                "    SELECT <column1>,<column2>\n",
                "    FROM <schema>.<tablename>\n",
                "    WHERE <column1> =<value>\n",
                "    ORDER BY <column1>[<sort direction>],<column2> [<sort direction>]\n",
                "    ```"
            ],
            "metadata": {
                "azdata_cell_guid": "c013d7ef-835e-4705-bede-3c40cedf5255"
            }
        },
        {
            "cell_type": "code",
            "source": [
                "SELECT TOP (10) \r\n",
                "      FirstName\r\n",
                "      ,MiddleName\r\n",
                "      ,LastName\r\n",
                "FROM AdventureWorks2019.Person.Person\r\n",
                "ORDER BY FirstName"
            ],
            "metadata": {
                "azdata_cell_guid": "38abb80e-1434-483b-b5a9-b60e238364d8"
            },
            "outputs": [
                {
                    "output_type": "display_data",
                    "data": {
                        "text/html": "(10 rows affected)"
                    },
                    "metadata": {}
                },
                {
                    "output_type": "display_data",
                    "data": {
                        "text/html": "Total execution time: 00:00:00.081"
                    },
                    "metadata": {}
                },
                {
                    "output_type": "execute_result",
                    "metadata": {
                        "resultSet": {
                            "id": 0,
                            "batchId": 0,
                            "rowCount": 10,
                            "complete": true,
                            "columnInfo": [
                                {
                                    "isBytes": false,
                                    "isChars": true,
                                    "isSqlVariant": false,
                                    "isUdt": false,
                                    "isXml": false,
                                    "isJson": false,
                                    "sqlDbType": 12,
                                    "isHierarchyId": false,
                                    "isSqlXmlType": false,
                                    "isUnknownType": false,
                                    "isUpdatable": true,
                                    "allowDBNull": false,
                                    "baseCatalogName": null,
                                    "baseColumnName": null,
                                    "baseSchemaName": null,
                                    "baseServerName": null,
                                    "baseTableName": null,
                                    "columnName": "FirstName",
                                    "columnOrdinal": 0,
                                    "columnSize": 50,
                                    "isAliased": null,
                                    "isAutoIncrement": false,
                                    "isExpression": null,
                                    "isHidden": null,
                                    "isIdentity": false,
                                    "isKey": null,
                                    "isLong": false,
                                    "isReadOnly": false,
                                    "isUnique": false,
                                    "numericPrecision": 255,
                                    "numericScale": 255,
                                    "udtAssemblyQualifiedName": null,
                                    "dataType": "System.String, System.Private.CoreLib, Version=4.0.0.0, Culture=neutral, PublicKeyToken=7cec85d7bea7798e",
                                    "dataTypeName": "nvarchar"
                                },
                                {
                                    "isBytes": false,
                                    "isChars": true,
                                    "isSqlVariant": false,
                                    "isUdt": false,
                                    "isXml": false,
                                    "isJson": false,
                                    "sqlDbType": 12,
                                    "isHierarchyId": false,
                                    "isSqlXmlType": false,
                                    "isUnknownType": false,
                                    "isUpdatable": true,
                                    "allowDBNull": true,
                                    "baseCatalogName": null,
                                    "baseColumnName": null,
                                    "baseSchemaName": null,
                                    "baseServerName": null,
                                    "baseTableName": null,
                                    "columnName": "MiddleName",
                                    "columnOrdinal": 1,
                                    "columnSize": 50,
                                    "isAliased": null,
                                    "isAutoIncrement": false,
                                    "isExpression": null,
                                    "isHidden": null,
                                    "isIdentity": false,
                                    "isKey": null,
                                    "isLong": false,
                                    "isReadOnly": false,
                                    "isUnique": false,
                                    "numericPrecision": 255,
                                    "numericScale": 255,
                                    "udtAssemblyQualifiedName": null,
                                    "dataType": "System.String, System.Private.CoreLib, Version=4.0.0.0, Culture=neutral, PublicKeyToken=7cec85d7bea7798e",
                                    "dataTypeName": "nvarchar"
                                },
                                {
                                    "isBytes": false,
                                    "isChars": true,
                                    "isSqlVariant": false,
                                    "isUdt": false,
                                    "isXml": false,
                                    "isJson": false,
                                    "sqlDbType": 12,
                                    "isHierarchyId": false,
                                    "isSqlXmlType": false,
                                    "isUnknownType": false,
                                    "isUpdatable": true,
                                    "allowDBNull": false,
                                    "baseCatalogName": null,
                                    "baseColumnName": null,
                                    "baseSchemaName": null,
                                    "baseServerName": null,
                                    "baseTableName": null,
                                    "columnName": "LastName",
                                    "columnOrdinal": 2,
                                    "columnSize": 50,
                                    "isAliased": null,
                                    "isAutoIncrement": false,
                                    "isExpression": null,
                                    "isHidden": null,
                                    "isIdentity": false,
                                    "isKey": null,
                                    "isLong": false,
                                    "isReadOnly": false,
                                    "isUnique": false,
                                    "numericPrecision": 255,
                                    "numericScale": 255,
                                    "udtAssemblyQualifiedName": null,
                                    "dataType": "System.String, System.Private.CoreLib, Version=4.0.0.0, Culture=neutral, PublicKeyToken=7cec85d7bea7798e",
                                    "dataTypeName": "nvarchar"
                                }
                            ],
                            "specialAction": {
                                "none": true,
                                "expectYukonXMLShowPlan": false
                            }
                        }
                    },
                    "execution_count": 1,
                    "data": {
                        "application/vnd.dataresource+json": {
                            "schema": {
                                "fields": [
                                    {
                                        "name": "FirstName"
                                    },
                                    {
                                        "name": "MiddleName"
                                    },
                                    {
                                        "name": "LastName"
                                    }
                                ]
                            },
                            "data": [
                                {
                                    "0": "A.",
                                    "1": "Francesca",
                                    "2": "Leonetti"
                                },
                                {
                                    "0": "A.",
                                    "1": "Scott",
                                    "2": "Wright"
                                },
                                {
                                    "0": "A. Scott",
                                    "1": "NULL",
                                    "2": "Wright"
                                },
                                {
                                    "0": "Aaron",
                                    "1": "B",
                                    "2": "Adams"
                                },
                                {
                                    "0": "Aaron",
                                    "1": "NULL",
                                    "2": "Alexander"
                                },
                                {
                                    "0": "Aaron",
                                    "1": "A",
                                    "2": "Allen"
                                },
                                {
                                    "0": "Aaron",
                                    "1": "E",
                                    "2": "Baker"
                                },
                                {
                                    "0": "Aaron",
                                    "1": "NULL",
                                    "2": "Bryant"
                                },
                                {
                                    "0": "Aaron",
                                    "1": "NULL",
                                    "2": "Butler"
                                },
                                {
                                    "0": "Aaron",
                                    "1": "C",
                                    "2": "Campbell"
                                }
                            ]
                        },
                        "text/html": [
                            "<table>",
                            "<tr><th>FirstName</th><th>MiddleName</th><th>LastName</th></tr>",
                            "<tr><td>A.</td><td>Francesca</td><td>Leonetti</td></tr>",
                            "<tr><td>A.</td><td>Scott</td><td>Wright</td></tr>",
                            "<tr><td>A. Scott</td><td>NULL</td><td>Wright</td></tr>",
                            "<tr><td>Aaron</td><td>B</td><td>Adams</td></tr>",
                            "<tr><td>Aaron</td><td>NULL</td><td>Alexander</td></tr>",
                            "<tr><td>Aaron</td><td>A</td><td>Allen</td></tr>",
                            "<tr><td>Aaron</td><td>E</td><td>Baker</td></tr>",
                            "<tr><td>Aaron</td><td>NULL</td><td>Bryant</td></tr>",
                            "<tr><td>Aaron</td><td>NULL</td><td>Butler</td></tr>",
                            "<tr><td>Aaron</td><td>C</td><td>Campbell</td></tr>",
                            "</table>"
                        ]
                    }
                }
            ],
            "execution_count": 1
        },
        {
            "cell_type": "code",
            "source": [
                "USE AdventureWorks2019\r\n",
                "\r\n",
                "SELECT TOP(10) ProductID, LocationID\r\n",
                "FROM Production.ProductInventory\r\n",
                "ORDER BY LocationID\r\n",
                ""
            ],
            "metadata": {
                "azdata_cell_guid": "3e0b7bfc-c6a0-4f28-ae0a-a48eaa8c7b05"
            },
            "outputs": [],
            "execution_count": null
        },
        {
            "cell_type": "code",
            "source": [
                "USE AdventureWorks2019\r\n",
                "\r\n",
                "SELECT TOP(10) ProductID, LocationID\r\n",
                "FROM Production.ProductInventory\r\n",
                "ORDER BY ProductID, LocationID DESC;"
            ],
            "metadata": {
                "azdata_cell_guid": "b98c6bd3-ff39-4d35-a895-404e4b23a274"
            },
            "outputs": [],
            "execution_count": null
        },
        {
            "cell_type": "markdown",
            "source": [
                "\\- Når NULL'er er en del af resultaterne, vises de først, når de sorteres i en stigende måde. \n",
                "\n",
                "\\- huske \"Intet før noget.\""
            ],
            "metadata": {
                "azdata_cell_guid": "3e257d3e-e1d2-4fe3-9d6b-c4e0007e653d"
            }
        },
        {
            "cell_type": "code",
            "source": [
                "SELECT TOP (100) \n",
                "      FirstName\n",
                "      ,MiddleName\n",
                "      ,LastName\n",
                "FROM AdventureWorks2019.Person.Person\n",
                "ORDER BY MiddleName"
            ],
            "metadata": {
                "azdata_cell_guid": "8ee475ff-8bce-4681-817d-0dcbe8f37985"
            },
            "outputs": [],
            "execution_count": 3
        }
    ]
}