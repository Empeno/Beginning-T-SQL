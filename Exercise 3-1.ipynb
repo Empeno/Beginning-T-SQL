{
    "metadata": {
        "kernelspec": {
            "name": "SQL",
            "display_name": "SQL",
            "language": "sql"
        },
        "language_info": {
            "name": "sql",
            "version": ""
        }
    },
    "nbformat_minor": 2,
    "nbformat": 4,
    "cells": [
        {
            "cell_type": "markdown",
            "source": [
                "Write a SELECT statement that lists the customers. Include the CustomerID, StoreID, and AccountNumber columns from the Sales.Customer table."
            ],
            "metadata": {
                "azdata_cell_guid": "428c4792-68f5-42c6-b06c-81141e8e3efd"
            }
        },
        {
            "cell_type": "code",
            "source": [
                "SELECT CustomerID, StoreID, AccountNumber\r\n",
                "FROM [Sales].[Customer];"
            ],
            "metadata": {
                "azdata_cell_guid": "0b5feec7-c422-40e2-92ed-4779246eee04"
            },
            "outputs": [
{
    "output_type": "error",
    "evalue": "Msg 208, Level 16, State 1, Line 1\r\nInvalid object name 'Sales.Customer'.",
    "ename": "",
    "traceback": []
}, {
    "output_type": "display_data",
    "data": {
        "text/html": "Total execution time: 00:00:01.614"
    },
    "metadata": {}
}
],
            "execution_count": 1
        }
    ]
}