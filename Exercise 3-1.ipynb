{
    "metadata": {
        "kernelspec": {
            "name": "SQL",
            "display_name": "SQL",
            "language": "sql"
        },
        "language_info": {
            "name": "sql",
            "version": ""
        }
    },
    "nbformat_minor": 2,
    "nbformat": 4,
    "cells": [
        {
            "cell_type": "markdown",
            "source": [
                "# EXERCISE 3-1\n",
                "\n",
                "##  1.\n",
                "\n",
                "Write a SELECT statement that lists the customers. Include the CustomerID, StoreID, and AccountNumber columns from the Sales.Customer table."
            ],
            "metadata": {
                "azdata_cell_guid": "428c4792-68f5-42c6-b06c-81141e8e3efd",
                "language": "markdown"
            }
        },
        {
            "cell_type": "code",
            "source": [
                "USE AdventureWorks2019\r\n",
                "\r\n",
                "SELECT TOP 3 CustomerID, StoreID, AccountNumber\r\n",
                "FROM [Sales].[Customer];"
            ],
            "metadata": {
                "azdata_cell_guid": "0b5feec7-c422-40e2-92ed-4779246eee04",
                "tags": []
            },
            "outputs": [
                {
                    "output_type": "display_data",
                    "data": {
                        "text/html": "(3 rows affected)"
                    },
                    "metadata": {}
                },
                {
                    "output_type": "display_data",
                    "data": {
                        "text/html": "Total execution time: 00:00:00.211"
                    },
                    "metadata": {}
                },
                {
                    "output_type": "execute_result",
                    "metadata": {
                        "resultSet": {
                            "id": 0,
                            "batchId": 0,
                            "rowCount": 3,
                            "complete": false,
                            "columnInfo": [
                                {
                                    "isBytes": false,
                                    "isChars": false,
                                    "isSqlVariant": false,
                                    "isUdt": false,
                                    "isXml": false,
                                    "isJson": false,
                                    "sqlDbType": 8,
                                    "isHierarchyId": false,
                                    "isSqlXmlType": false,
                                    "isUnknownType": false,
                                    "isUpdatable": false,
                                    "allowDBNull": false,
                                    "baseCatalogName": null,
                                    "baseColumnName": null,
                                    "baseSchemaName": null,
                                    "baseServerName": null,
                                    "baseTableName": null,
                                    "columnName": "CustomerID",
                                    "columnOrdinal": 0,
                                    "columnSize": 4,
                                    "isAliased": null,
                                    "isAutoIncrement": true,
                                    "isExpression": null,
                                    "isHidden": null,
                                    "isIdentity": true,
                                    "isKey": null,
                                    "isLong": false,
                                    "isReadOnly": true,
                                    "isUnique": false,
                                    "numericPrecision": 10,
                                    "numericScale": 255,
                                    "udtAssemblyQualifiedName": null,
                                    "dataType": "System.Int32, System.Private.CoreLib, Version=4.0.0.0, Culture=neutral, PublicKeyToken=7cec85d7bea7798e",
                                    "dataTypeName": "int"
                                },
                                {
                                    "isBytes": false,
                                    "isChars": false,
                                    "isSqlVariant": false,
                                    "isUdt": false,
                                    "isXml": false,
                                    "isJson": false,
                                    "sqlDbType": 8,
                                    "isHierarchyId": false,
                                    "isSqlXmlType": false,
                                    "isUnknownType": false,
                                    "isUpdatable": true,
                                    "allowDBNull": true,
                                    "baseCatalogName": null,
                                    "baseColumnName": null,
                                    "baseSchemaName": null,
                                    "baseServerName": null,
                                    "baseTableName": null,
                                    "columnName": "StoreID",
                                    "columnOrdinal": 1,
                                    "columnSize": 4,
                                    "isAliased": null,
                                    "isAutoIncrement": false,
                                    "isExpression": null,
                                    "isHidden": null,
                                    "isIdentity": false,
                                    "isKey": null,
                                    "isLong": false,
                                    "isReadOnly": false,
                                    "isUnique": false,
                                    "numericPrecision": 10,
                                    "numericScale": 255,
                                    "udtAssemblyQualifiedName": null,
                                    "dataType": "System.Int32, System.Private.CoreLib, Version=4.0.0.0, Culture=neutral, PublicKeyToken=7cec85d7bea7798e",
                                    "dataTypeName": "int"
                                },
                                {
                                    "isBytes": false,
                                    "isChars": true,
                                    "isSqlVariant": false,
                                    "isUdt": false,
                                    "isXml": false,
                                    "isJson": false,
                                    "sqlDbType": 22,
                                    "isHierarchyId": false,
                                    "isSqlXmlType": false,
                                    "isUnknownType": false,
                                    "isUpdatable": false,
                                    "allowDBNull": false,
                                    "baseCatalogName": null,
                                    "baseColumnName": null,
                                    "baseSchemaName": null,
                                    "baseServerName": null,
                                    "baseTableName": null,
                                    "columnName": "AccountNumber",
                                    "columnOrdinal": 2,
                                    "columnSize": 10,
                                    "isAliased": null,
                                    "isAutoIncrement": false,
                                    "isExpression": null,
                                    "isHidden": null,
                                    "isIdentity": false,
                                    "isKey": null,
                                    "isLong": false,
                                    "isReadOnly": true,
                                    "isUnique": false,
                                    "numericPrecision": 255,
                                    "numericScale": 255,
                                    "udtAssemblyQualifiedName": null,
                                    "dataType": "System.String, System.Private.CoreLib, Version=4.0.0.0, Culture=neutral, PublicKeyToken=7cec85d7bea7798e",
                                    "dataTypeName": "varchar"
                                }
                            ],
                            "specialAction": null
                        }
                    },
                    "execution_count": 7,
                    "data": {
                        "application/vnd.dataresource+json": {
                            "schema": {
                                "fields": [
                                    {
                                        "name": "CustomerID"
                                    },
                                    {
                                        "name": "StoreID"
                                    },
                                    {
                                        "name": "AccountNumber"
                                    }
                                ]
                            },
                            "data": [
                                {
                                    "0": "1",
                                    "1": "934",
                                    "2": "AW00000001"
                                },
                                {
                                    "0": "2",
                                    "1": "1028",
                                    "2": "AW00000002"
                                },
                                {
                                    "0": "3",
                                    "1": "642",
                                    "2": "AW00000003"
                                }
                            ]
                        },
                        "text/html": [
                            "<table>",
                            "<tr><th>CustomerID</th><th>StoreID</th><th>AccountNumber</th></tr>",
                            "<tr><td>1</td><td>934</td><td>AW00000001</td></tr>",
                            "<tr><td>2</td><td>1028</td><td>AW00000002</td></tr>",
                            "<tr><td>3</td><td>642</td><td>AW00000003</td></tr>",
                            "</table>"
                        ]
                    }
                }
            ],
            "execution_count": 7
        },
        {
            "cell_type": "markdown",
            "source": [
                "## 2.\r\n",
                "\r\n",
                "Write  a SELECT statement that lists the name, product number, and color of each product from the Production.Product table"
            ],
            "metadata": {
                "azdata_cell_guid": "934bb23f-803b-4375-8dca-b30ded1f1faa"
            }
        },
        {
            "cell_type": "code",
            "source": [
                "USE AdventureWorks2019\r\n",
                "\r\n",
                "SELECT TOP 3 ProductNumber, Color\r\n",
                "FROM [Production].[Product]"
            ],
            "metadata": {
                "azdata_cell_guid": "61a17fb4-4681-4602-bd14-f54c316844c9"
            },
            "outputs": [
                {
                    "output_type": "display_data",
                    "data": {
                        "text/html": "(3 rows affected)"
                    },
                    "metadata": {}
                },
                {
                    "output_type": "display_data",
                    "data": {
                        "text/html": "Total execution time: 00:00:00.267"
                    },
                    "metadata": {}
                },
                {
                    "output_type": "execute_result",
                    "metadata": {
                        "resultSet": {
                            "id": 0,
                            "batchId": 0,
                            "rowCount": 3,
                            "complete": true,
                            "columnInfo": [
                                {
                                    "isBytes": false,
                                    "isChars": true,
                                    "isSqlVariant": false,
                                    "isUdt": false,
                                    "isXml": false,
                                    "isJson": false,
                                    "sqlDbType": 12,
                                    "isHierarchyId": false,
                                    "isSqlXmlType": false,
                                    "isUnknownType": false,
                                    "isUpdatable": true,
                                    "allowDBNull": false,
                                    "baseCatalogName": null,
                                    "baseColumnName": null,
                                    "baseSchemaName": null,
                                    "baseServerName": null,
                                    "baseTableName": null,
                                    "columnName": "ProductNumber",
                                    "columnOrdinal": 0,
                                    "columnSize": 25,
                                    "isAliased": null,
                                    "isAutoIncrement": false,
                                    "isExpression": null,
                                    "isHidden": null,
                                    "isIdentity": false,
                                    "isKey": null,
                                    "isLong": false,
                                    "isReadOnly": false,
                                    "isUnique": false,
                                    "numericPrecision": 255,
                                    "numericScale": 255,
                                    "udtAssemblyQualifiedName": null,
                                    "dataType": "System.String, System.Private.CoreLib, Version=4.0.0.0, Culture=neutral, PublicKeyToken=7cec85d7bea7798e",
                                    "dataTypeName": "nvarchar"
                                },
                                {
                                    "isBytes": false,
                                    "isChars": true,
                                    "isSqlVariant": false,
                                    "isUdt": false,
                                    "isXml": false,
                                    "isJson": false,
                                    "sqlDbType": 12,
                                    "isHierarchyId": false,
                                    "isSqlXmlType": false,
                                    "isUnknownType": false,
                                    "isUpdatable": true,
                                    "allowDBNull": true,
                                    "baseCatalogName": null,
                                    "baseColumnName": null,
                                    "baseSchemaName": null,
                                    "baseServerName": null,
                                    "baseTableName": null,
                                    "columnName": "Color",
                                    "columnOrdinal": 1,
                                    "columnSize": 15,
                                    "isAliased": null,
                                    "isAutoIncrement": false,
                                    "isExpression": null,
                                    "isHidden": null,
                                    "isIdentity": false,
                                    "isKey": null,
                                    "isLong": false,
                                    "isReadOnly": false,
                                    "isUnique": false,
                                    "numericPrecision": 255,
                                    "numericScale": 255,
                                    "udtAssemblyQualifiedName": null,
                                    "dataType": "System.String, System.Private.CoreLib, Version=4.0.0.0, Culture=neutral, PublicKeyToken=7cec85d7bea7798e",
                                    "dataTypeName": "nvarchar"
                                }
                            ],
                            "specialAction": {
                                "none": true,
                                "expectYukonXMLShowPlan": false
                            }
                        }
                    },
                    "execution_count": 8,
                    "data": {
                        "application/vnd.dataresource+json": {
                            "schema": {
                                "fields": [
                                    {
                                        "name": "ProductNumber"
                                    },
                                    {
                                        "name": "Color"
                                    }
                                ]
                            },
                            "data": [
                                {
                                    "0": "AR-5381",
                                    "1": "NULL"
                                },
                                {
                                    "0": "BA-8327",
                                    "1": "NULL"
                                },
                                {
                                    "0": "BE-2349",
                                    "1": "NULL"
                                }
                            ]
                        },
                        "text/html": [
                            "<table>",
                            "<tr><th>ProductNumber</th><th>Color</th></tr>",
                            "<tr><td>AR-5381</td><td>NULL</td></tr>",
                            "<tr><td>BA-8327</td><td>NULL</td></tr>",
                            "<tr><td>BE-2349</td><td>NULL</td></tr>",
                            "</table>"
                        ]
                    }
                }
            ],
            "execution_count": 8
        },
        {
            "cell_type": "markdown",
            "source": [
                "## 3.\r\n",
                "\r\n",
                "Write  a SELECT statement that lists the customer ID numbers and sales order ID numbers from the Sales.SalesOrderHeader table."
            ],
            "metadata": {
                "azdata_cell_guid": "0aa3fda3-cb7e-40af-9633-879d84817c57"
            }
        },
        {
            "cell_type": "code",
            "source": [
                "USE AdventureWorks2019\r\n",
                "\r\n",
                "SELECT TOP 3 CustomerID, SalesOrderID\r\n",
                "FROM [Sales].[SalesOrderHeader]"
            ],
            "metadata": {
                "azdata_cell_guid": "0dc88da7-79d4-4324-b04e-608b0a4cebc8"
            },
            "outputs": [],
            "execution_count": null
        },
        {
            "cell_type": "markdown",
            "source": [
                "<span style=\"padding: 0px; margin: 0px; color: transparent; position: absolute; white-space: pre; cursor: text; transform-origin: 0% 0%; background-color: rgb(255, 255, 255); left: 107.998px; top: 878.368px; font-size: 18.3333px; font-family: sans-serif; transform: scaleX(0.716256);\">Write a </span> <span style=\"padding: 0px; margin: 0px; color: transparent; position: absolute; white-space: pre; cursor: text; transform-origin: 0% 0%; background-color: rgb(255, 255, 255); left: 190.223px; top: 879.817px; font-size: 18.3333px; font-family: monospace; transform: scaleX(0.90958);\">SELECT</span> <span style=\"padding: 0px; margin: 0px; color: transparent; position: absolute; white-space: pre; cursor: text; transform-origin: 0% 0%; background-color: rgb(255, 255, 255); left: 245.223px; top: 878.368px; font-size: 18.3333px; font-family: sans-serif; transform: scaleX(0.841066);\"> statement that lists the name, product number, and color of </span> <span style=\"padding: 0px; margin: 0px; color: transparent; position: absolute; white-space: pre; cursor: text; transform-origin: 0% 0%; background-color: rgb(255, 255, 255); left: 137.992px; top: 905.043px; font-size: 18.3333px; font-family: sans-serif; transform: scaleX(0.843502);\">each product from the </span> <span style=\"padding: 0px; margin: 0px; color: transparent; position: absolute; white-space: pre; cursor: text; transform-origin: 0% 0%; background-color: rgb(255, 255, 255); left: 292.688px; top: 906.492px; font-size: 18.3333px; font-family: monospace; transform: scaleX(0.90958);\">Production.Product</span> <span style=\"padding: 0px; margin: 0px; color: transparent; position: absolute; white-space: pre; cursor: text; transform-origin: 0% 0%; background-color: rgb(255, 255, 255); left: 457.688px; top: 905.043px; font-size: 18.3333px; font-family: sans-serif; transform: scaleX(0.842261);\"> table</span>"
            ],
            "metadata": {
                "azdata_cell_guid": "bb223157-e7e5-42de-a731-4acda56e0074"
            }
        }
    ]
}