{
    "metadata": {
        "kernelspec": {
            "name": "SQL",
            "display_name": "SQL",
            "language": "sql"
        },
        "language_info": {
            "name": "sql",
            "version": ""
        }
    },
    "nbformat_minor": 2,
    "nbformat": 4,
    "cells": [
        {
            "cell_type": "markdown",
            "source": [
                "# Brug af IN-operator\n",
                "\n",
                "- IN-operator er meget nyttig, når et sæt af flere værdier skal sammenlignes med samme kolonne.\n",
                "- Forespørgsel fra tidligere video kunne have været skrevet ved hjælp af IN-operatøren:"
            ],
            "metadata": {
                "azdata_cell_guid": "b0818a04-4688-4718-a2e4-0cdcc843d2da"
            }
        },
        {
            "cell_type": "code",
            "source": [
                "USE AdventureWorks2019\n",
                "\n",
                "SELECT BusinessEntityID, FirstName, MiddleName, LastName \n",
                "FROM Person.Person \n",
                "WHERE LastName = 'Myer' OR LastName = 'Meyer';\n",
                "\n",
                "SELECT BusinessEntityID, FirstName, MiddleName, LastName \n",
                "FROM Person.Person \n",
                "WHERE LastName IN ('Myer', 'Meyer');"
            ],
            "metadata": {
                "azdata_cell_guid": "99f2264c-a304-47bc-adee-09b78f088668"
            },
            "outputs": [
                {
                    "output_type": "display_data",
                    "data": {
                        "text/html": "(8 rows affected)"
                    },
                    "metadata": {}
                },
                {
                    "output_type": "display_data",
                    "data": {
                        "text/html": "(8 rows affected)"
                    },
                    "metadata": {}
                },
                {
                    "output_type": "display_data",
                    "data": {
                        "text/html": "Total execution time: 00:00:00.007"
                    },
                    "metadata": {}
                },
                {
                    "output_type": "execute_result",
                    "metadata": {
                        "resultSet": {
                            "id": 0,
                            "batchId": 0,
                            "rowCount": 8,
                            "complete": true,
                            "columnInfo": [
                                {
                                    "isBytes": false,
                                    "isChars": false,
                                    "isSqlVariant": false,
                                    "isUdt": false,
                                    "isXml": false,
                                    "isJson": false,
                                    "sqlDbType": 8,
                                    "isHierarchyId": false,
                                    "isSqlXmlType": false,
                                    "isUnknownType": false,
                                    "isUpdatable": true,
                                    "allowDBNull": false,
                                    "baseCatalogName": null,
                                    "baseColumnName": null,
                                    "baseSchemaName": null,
                                    "baseServerName": null,
                                    "baseTableName": null,
                                    "columnName": "BusinessEntityID",
                                    "columnOrdinal": 0,
                                    "columnSize": 4,
                                    "isAliased": null,
                                    "isAutoIncrement": false,
                                    "isExpression": null,
                                    "isHidden": null,
                                    "isIdentity": false,
                                    "isKey": null,
                                    "isLong": false,
                                    "isReadOnly": false,
                                    "isUnique": false,
                                    "numericPrecision": 10,
                                    "numericScale": 255,
                                    "udtAssemblyQualifiedName": null,
                                    "dataType": "System.Int32, System.Private.CoreLib, Version=4.0.0.0, Culture=neutral, PublicKeyToken=7cec85d7bea7798e",
                                    "dataTypeName": "int"
                                },
                                {
                                    "isBytes": false,
                                    "isChars": true,
                                    "isSqlVariant": false,
                                    "isUdt": false,
                                    "isXml": false,
                                    "isJson": false,
                                    "sqlDbType": 12,
                                    "isHierarchyId": false,
                                    "isSqlXmlType": false,
                                    "isUnknownType": false,
                                    "isUpdatable": true,
                                    "allowDBNull": false,
                                    "baseCatalogName": null,
                                    "baseColumnName": null,
                                    "baseSchemaName": null,
                                    "baseServerName": null,
                                    "baseTableName": null,
                                    "columnName": "FirstName",
                                    "columnOrdinal": 1,
                                    "columnSize": 50,
                                    "isAliased": null,
                                    "isAutoIncrement": false,
                                    "isExpression": null,
                                    "isHidden": null,
                                    "isIdentity": false,
                                    "isKey": null,
                                    "isLong": false,
                                    "isReadOnly": false,
                                    "isUnique": false,
                                    "numericPrecision": 255,
                                    "numericScale": 255,
                                    "udtAssemblyQualifiedName": null,
                                    "dataType": "System.String, System.Private.CoreLib, Version=4.0.0.0, Culture=neutral, PublicKeyToken=7cec85d7bea7798e",
                                    "dataTypeName": "nvarchar"
                                },
                                {
                                    "isBytes": false,
                                    "isChars": true,
                                    "isSqlVariant": false,
                                    "isUdt": false,
                                    "isXml": false,
                                    "isJson": false,
                                    "sqlDbType": 12,
                                    "isHierarchyId": false,
                                    "isSqlXmlType": false,
                                    "isUnknownType": false,
                                    "isUpdatable": true,
                                    "allowDBNull": true,
                                    "baseCatalogName": null,
                                    "baseColumnName": null,
                                    "baseSchemaName": null,
                                    "baseServerName": null,
                                    "baseTableName": null,
                                    "columnName": "MiddleName",
                                    "columnOrdinal": 2,
                                    "columnSize": 50,
                                    "isAliased": null,
                                    "isAutoIncrement": false,
                                    "isExpression": null,
                                    "isHidden": null,
                                    "isIdentity": false,
                                    "isKey": null,
                                    "isLong": false,
                                    "isReadOnly": false,
                                    "isUnique": false,
                                    "numericPrecision": 255,
                                    "numericScale": 255,
                                    "udtAssemblyQualifiedName": null,
                                    "dataType": "System.String, System.Private.CoreLib, Version=4.0.0.0, Culture=neutral, PublicKeyToken=7cec85d7bea7798e",
                                    "dataTypeName": "nvarchar"
                                },
                                {
                                    "isBytes": false,
                                    "isChars": true,
                                    "isSqlVariant": false,
                                    "isUdt": false,
                                    "isXml": false,
                                    "isJson": false,
                                    "sqlDbType": 12,
                                    "isHierarchyId": false,
                                    "isSqlXmlType": false,
                                    "isUnknownType": false,
                                    "isUpdatable": true,
                                    "allowDBNull": false,
                                    "baseCatalogName": null,
                                    "baseColumnName": null,
                                    "baseSchemaName": null,
                                    "baseServerName": null,
                                    "baseTableName": null,
                                    "columnName": "LastName",
                                    "columnOrdinal": 3,
                                    "columnSize": 50,
                                    "isAliased": null,
                                    "isAutoIncrement": false,
                                    "isExpression": null,
                                    "isHidden": null,
                                    "isIdentity": false,
                                    "isKey": null,
                                    "isLong": false,
                                    "isReadOnly": false,
                                    "isUnique": false,
                                    "numericPrecision": 255,
                                    "numericScale": 255,
                                    "udtAssemblyQualifiedName": null,
                                    "dataType": "System.String, System.Private.CoreLib, Version=4.0.0.0, Culture=neutral, PublicKeyToken=7cec85d7bea7798e",
                                    "dataTypeName": "nvarchar"
                                }
                            ],
                            "specialAction": {
                                "none": true,
                                "expectYukonXMLShowPlan": false
                            }
                        }
                    },
                    "execution_count": 4,
                    "data": {
                        "application/vnd.dataresource+json": {
                            "schema": {
                                "fields": [
                                    {
                                        "name": "BusinessEntityID"
                                    },
                                    {
                                        "name": "FirstName"
                                    },
                                    {
                                        "name": "MiddleName"
                                    },
                                    {
                                        "name": "LastName"
                                    }
                                ]
                            },
                            "data": [
                                {
                                    "0": "1459",
                                    "1": "Deanna",
                                    "2": "NULL",
                                    "3": "Meyer"
                                },
                                {
                                    "0": "1455",
                                    "1": "Eric",
                                    "2": "B.",
                                    "3": "Meyer"
                                },
                                {
                                    "0": "1457",
                                    "1": "Helen",
                                    "2": "M.",
                                    "3": "Meyer"
                                },
                                {
                                    "0": "2140",
                                    "1": "Ken",
                                    "2": "NULL",
                                    "3": "Meyer"
                                },
                                {
                                    "0": "1523",
                                    "1": "Dorothy",
                                    "2": "J.",
                                    "3": "Myer"
                                },
                                {
                                    "0": "1525",
                                    "1": "Ken",
                                    "2": "NULL",
                                    "3": "Myer"
                                },
                                {
                                    "0": "203",
                                    "1": "Ken",
                                    "2": "L",
                                    "3": "Myer"
                                },
                                {
                                    "0": "2319",
                                    "1": "Linda",
                                    "2": "NULL",
                                    "3": "Myer"
                                }
                            ]
                        },
                        "text/html": [
                            "<table>",
                            "<tr><th>BusinessEntityID</th><th>FirstName</th><th>MiddleName</th><th>LastName</th></tr>",
                            "<tr><td>1459</td><td>Deanna</td><td>NULL</td><td>Meyer</td></tr>",
                            "<tr><td>1455</td><td>Eric</td><td>B.</td><td>Meyer</td></tr>",
                            "<tr><td>1457</td><td>Helen</td><td>M.</td><td>Meyer</td></tr>",
                            "<tr><td>2140</td><td>Ken</td><td>NULL</td><td>Meyer</td></tr>",
                            "<tr><td>1523</td><td>Dorothy</td><td>J.</td><td>Myer</td></tr>",
                            "<tr><td>1525</td><td>Ken</td><td>NULL</td><td>Myer</td></tr>",
                            "<tr><td>203</td><td>Ken</td><td>L</td><td>Myer</td></tr>",
                            "<tr><td>2319</td><td>Linda</td><td>NULL</td><td>Myer</td></tr>",
                            "</table>"
                        ]
                    }
                },
                {
                    "output_type": "execute_result",
                    "metadata": {
                        "resultSet": {
                            "id": 1,
                            "batchId": 0,
                            "rowCount": 8,
                            "complete": true,
                            "columnInfo": [
                                {
                                    "isBytes": false,
                                    "isChars": false,
                                    "isSqlVariant": false,
                                    "isUdt": false,
                                    "isXml": false,
                                    "isJson": false,
                                    "sqlDbType": 8,
                                    "isHierarchyId": false,
                                    "isSqlXmlType": false,
                                    "isUnknownType": false,
                                    "isUpdatable": true,
                                    "allowDBNull": false,
                                    "baseCatalogName": null,
                                    "baseColumnName": null,
                                    "baseSchemaName": null,
                                    "baseServerName": null,
                                    "baseTableName": null,
                                    "columnName": "BusinessEntityID",
                                    "columnOrdinal": 0,
                                    "columnSize": 4,
                                    "isAliased": null,
                                    "isAutoIncrement": false,
                                    "isExpression": null,
                                    "isHidden": null,
                                    "isIdentity": false,
                                    "isKey": null,
                                    "isLong": false,
                                    "isReadOnly": false,
                                    "isUnique": false,
                                    "numericPrecision": 10,
                                    "numericScale": 255,
                                    "udtAssemblyQualifiedName": null,
                                    "dataType": "System.Int32, System.Private.CoreLib, Version=4.0.0.0, Culture=neutral, PublicKeyToken=7cec85d7bea7798e",
                                    "dataTypeName": "int"
                                },
                                {
                                    "isBytes": false,
                                    "isChars": true,
                                    "isSqlVariant": false,
                                    "isUdt": false,
                                    "isXml": false,
                                    "isJson": false,
                                    "sqlDbType": 12,
                                    "isHierarchyId": false,
                                    "isSqlXmlType": false,
                                    "isUnknownType": false,
                                    "isUpdatable": true,
                                    "allowDBNull": false,
                                    "baseCatalogName": null,
                                    "baseColumnName": null,
                                    "baseSchemaName": null,
                                    "baseServerName": null,
                                    "baseTableName": null,
                                    "columnName": "FirstName",
                                    "columnOrdinal": 1,
                                    "columnSize": 50,
                                    "isAliased": null,
                                    "isAutoIncrement": false,
                                    "isExpression": null,
                                    "isHidden": null,
                                    "isIdentity": false,
                                    "isKey": null,
                                    "isLong": false,
                                    "isReadOnly": false,
                                    "isUnique": false,
                                    "numericPrecision": 255,
                                    "numericScale": 255,
                                    "udtAssemblyQualifiedName": null,
                                    "dataType": "System.String, System.Private.CoreLib, Version=4.0.0.0, Culture=neutral, PublicKeyToken=7cec85d7bea7798e",
                                    "dataTypeName": "nvarchar"
                                },
                                {
                                    "isBytes": false,
                                    "isChars": true,
                                    "isSqlVariant": false,
                                    "isUdt": false,
                                    "isXml": false,
                                    "isJson": false,
                                    "sqlDbType": 12,
                                    "isHierarchyId": false,
                                    "isSqlXmlType": false,
                                    "isUnknownType": false,
                                    "isUpdatable": true,
                                    "allowDBNull": true,
                                    "baseCatalogName": null,
                                    "baseColumnName": null,
                                    "baseSchemaName": null,
                                    "baseServerName": null,
                                    "baseTableName": null,
                                    "columnName": "MiddleName",
                                    "columnOrdinal": 2,
                                    "columnSize": 50,
                                    "isAliased": null,
                                    "isAutoIncrement": false,
                                    "isExpression": null,
                                    "isHidden": null,
                                    "isIdentity": false,
                                    "isKey": null,
                                    "isLong": false,
                                    "isReadOnly": false,
                                    "isUnique": false,
                                    "numericPrecision": 255,
                                    "numericScale": 255,
                                    "udtAssemblyQualifiedName": null,
                                    "dataType": "System.String, System.Private.CoreLib, Version=4.0.0.0, Culture=neutral, PublicKeyToken=7cec85d7bea7798e",
                                    "dataTypeName": "nvarchar"
                                },
                                {
                                    "isBytes": false,
                                    "isChars": true,
                                    "isSqlVariant": false,
                                    "isUdt": false,
                                    "isXml": false,
                                    "isJson": false,
                                    "sqlDbType": 12,
                                    "isHierarchyId": false,
                                    "isSqlXmlType": false,
                                    "isUnknownType": false,
                                    "isUpdatable": true,
                                    "allowDBNull": false,
                                    "baseCatalogName": null,
                                    "baseColumnName": null,
                                    "baseSchemaName": null,
                                    "baseServerName": null,
                                    "baseTableName": null,
                                    "columnName": "LastName",
                                    "columnOrdinal": 3,
                                    "columnSize": 50,
                                    "isAliased": null,
                                    "isAutoIncrement": false,
                                    "isExpression": null,
                                    "isHidden": null,
                                    "isIdentity": false,
                                    "isKey": null,
                                    "isLong": false,
                                    "isReadOnly": false,
                                    "isUnique": false,
                                    "numericPrecision": 255,
                                    "numericScale": 255,
                                    "udtAssemblyQualifiedName": null,
                                    "dataType": "System.String, System.Private.CoreLib, Version=4.0.0.0, Culture=neutral, PublicKeyToken=7cec85d7bea7798e",
                                    "dataTypeName": "nvarchar"
                                }
                            ],
                            "specialAction": {
                                "none": true,
                                "expectYukonXMLShowPlan": false
                            }
                        }
                    },
                    "execution_count": 4,
                    "data": {
                        "application/vnd.dataresource+json": {
                            "schema": {
                                "fields": [
                                    {
                                        "name": "BusinessEntityID"
                                    },
                                    {
                                        "name": "FirstName"
                                    },
                                    {
                                        "name": "MiddleName"
                                    },
                                    {
                                        "name": "LastName"
                                    }
                                ]
                            },
                            "data": [
                                {
                                    "0": "1459",
                                    "1": "Deanna",
                                    "2": "NULL",
                                    "3": "Meyer"
                                },
                                {
                                    "0": "1455",
                                    "1": "Eric",
                                    "2": "B.",
                                    "3": "Meyer"
                                },
                                {
                                    "0": "1457",
                                    "1": "Helen",
                                    "2": "M.",
                                    "3": "Meyer"
                                },
                                {
                                    "0": "2140",
                                    "1": "Ken",
                                    "2": "NULL",
                                    "3": "Meyer"
                                },
                                {
                                    "0": "1523",
                                    "1": "Dorothy",
                                    "2": "J.",
                                    "3": "Myer"
                                },
                                {
                                    "0": "1525",
                                    "1": "Ken",
                                    "2": "NULL",
                                    "3": "Myer"
                                },
                                {
                                    "0": "203",
                                    "1": "Ken",
                                    "2": "L",
                                    "3": "Myer"
                                },
                                {
                                    "0": "2319",
                                    "1": "Linda",
                                    "2": "NULL",
                                    "3": "Myer"
                                }
                            ]
                        },
                        "text/html": [
                            "<table>",
                            "<tr><th>BusinessEntityID</th><th>FirstName</th><th>MiddleName</th><th>LastName</th></tr>",
                            "<tr><td>1459</td><td>Deanna</td><td>NULL</td><td>Meyer</td></tr>",
                            "<tr><td>1455</td><td>Eric</td><td>B.</td><td>Meyer</td></tr>",
                            "<tr><td>1457</td><td>Helen</td><td>M.</td><td>Meyer</td></tr>",
                            "<tr><td>2140</td><td>Ken</td><td>NULL</td><td>Meyer</td></tr>",
                            "<tr><td>1523</td><td>Dorothy</td><td>J.</td><td>Myer</td></tr>",
                            "<tr><td>1525</td><td>Ken</td><td>NULL</td><td>Myer</td></tr>",
                            "<tr><td>203</td><td>Ken</td><td>L</td><td>Myer</td></tr>",
                            "<tr><td>2319</td><td>Linda</td><td>NULL</td><td>Myer</td></tr>",
                            "</table>"
                        ]
                    }
                }
            ],
            "execution_count": 4
        },
        {
            "cell_type": "markdown",
            "source": [
                "* Ovenstående query kunne have været skrevet ved hjælp af IN. \n",
                "* IN-operator følges af liste over mulige værdier for en kolonne inden for parentes. \n",
                "* Her er syntaksen:\n",
                "\n",
                "```\n",
                "\n",
                "SELECT \\<column1\\>,\\<column2\\>\n",
                "\n",
                "FROM \\<schema\\>.\\<table\\>\n",
                "\n",
                "WHERE \\<column\\> IN (\\<value1\\>,\\<value2\\>);\n",
                "\n",
                "```"
            ],
            "metadata": {
                "azdata_cell_guid": "1848661e-9fd6-4d6b-a6ff-f938b401555a"
            }
        },
        {
            "cell_type": "markdown",
            "source": [
                "´´´\r\n",
                "SELECT <column1>,<column2>\r\n",
                "FROM <schema>.<table>\r\n",
                "WHERE <column> IN (<value1>,<value2>);\r\n",
                "´´´"
            ],
            "metadata": {
                "azdata_cell_guid": "65220042-2b5e-4186-a376-c9242ed19803"
            }
        }
    ]
}