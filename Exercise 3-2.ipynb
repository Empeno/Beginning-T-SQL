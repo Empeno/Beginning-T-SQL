{
    "metadata": {
        "kernelspec": {
            "name": "SQL",
            "display_name": "SQL",
            "language": "sql"
        },
        "language_info": {
            "name": "sql",
            "version": ""
        }
    },
    "nbformat_minor": 2,
    "nbformat": 4,
    "cells": [
        {
            "cell_type": "markdown",
            "source": [
                "# Exercise 3-2\r\n",
                "\r\n",
                "## 1\r\n",
                "\r\n",
                "Write a query using a WHERE clause that displays all the employees listed in\r\n",
                "the HumanResources.Employee table who have the job title “Research and\r\n",
                "Development Engineer.” Display the BusinessEntityID, the login ID, and the\r\n",
                "job title for each one."
            ],
            "metadata": {
                "azdata_cell_guid": "b9ba4d9c-4597-45d5-89ca-85b4666071db"
            }
        },
        {
            "cell_type": "code",
            "source": [
                "USE AdventureWorks2019\r\n",
                "\r\n",
                "SELECT BusinessEntityID, LoginID, JobTitle\r\n",
                "FROM HumanResources.Employee\r\n",
                "WHERE JobTitle = 'Research and Development Engineer'"
            ],
            "metadata": {
                "azdata_cell_guid": "35516194-2d91-4a3d-b727-02850f1928af"
            },
            "outputs": [
                {
                    "output_type": "display_data",
                    "data": {
                        "text/html": "(2 rows affected)"
                    },
                    "metadata": {}
                },
                {
                    "output_type": "display_data",
                    "data": {
                        "text/html": "Total execution time: 00:00:00.209"
                    },
                    "metadata": {}
                },
                {
                    "output_type": "execute_result",
                    "execution_count": 4,
                    "data": {
                        "application/vnd.dataresource+json": {
                            "schema": {
                                "fields": [
                                    {
                                        "name": "BusinessEntityID"
                                    },
                                    {
                                        "name": "LoginID"
                                    },
                                    {
                                        "name": "JobTitle"
                                    }
                                ]
                            },
                            "data": [
                                {
                                    "0": "8",
                                    "1": "adventure-works\\diane1",
                                    "2": "Research and Development Engineer"
                                },
                                {
                                    "0": "9",
                                    "1": "adventure-works\\gigi0",
                                    "2": "Research and Development Engineer"
                                }
                            ]
                        },
                        "text/html": "<table><tr><th>BusinessEntityID</th><th>LoginID</th><th>JobTitle</th></tr><tr><td>8</td><td>adventure-works\\diane1</td><td>Research and Development Engineer</td></tr><tr><td>9</td><td>adventure-works\\gigi0</td><td>Research and Development Engineer</td></tr></table>"
                    },
                    "metadata": {
                        "resultSet": {
                            "id": 0,
                            "batchId": 0,
                            "rowCount": 2,
                            "complete": true,
                            "columnInfo": [
                                {
                                    "isBytes": false,
                                    "isChars": false,
                                    "isSqlVariant": false,
                                    "isUdt": false,
                                    "isXml": false,
                                    "isJson": false,
                                    "sqlDbType": 8,
                                    "isHierarchyId": false,
                                    "isSqlXmlType": false,
                                    "isUnknownType": false,
                                    "isUpdatable": true,
                                    "allowDBNull": false,
                                    "baseCatalogName": null,
                                    "baseColumnName": null,
                                    "baseSchemaName": null,
                                    "baseServerName": null,
                                    "baseTableName": null,
                                    "columnName": "BusinessEntityID",
                                    "columnOrdinal": 0,
                                    "columnSize": 4,
                                    "isAliased": null,
                                    "isAutoIncrement": false,
                                    "isExpression": null,
                                    "isHidden": null,
                                    "isIdentity": false,
                                    "isKey": null,
                                    "isLong": false,
                                    "isReadOnly": false,
                                    "isUnique": false,
                                    "numericPrecision": 10,
                                    "numericScale": 255,
                                    "udtAssemblyQualifiedName": null,
                                    "dataType": "System.Int32, System.Private.CoreLib, Version=4.0.0.0, Culture=neutral, PublicKeyToken=7cec85d7bea7798e",
                                    "dataTypeName": "int"
                                },
                                {
                                    "isBytes": false,
                                    "isChars": true,
                                    "isSqlVariant": false,
                                    "isUdt": false,
                                    "isXml": false,
                                    "isJson": false,
                                    "sqlDbType": 12,
                                    "isHierarchyId": false,
                                    "isSqlXmlType": false,
                                    "isUnknownType": false,
                                    "isUpdatable": true,
                                    "allowDBNull": false,
                                    "baseCatalogName": null,
                                    "baseColumnName": null,
                                    "baseSchemaName": null,
                                    "baseServerName": null,
                                    "baseTableName": null,
                                    "columnName": "LoginID",
                                    "columnOrdinal": 1,
                                    "columnSize": 256,
                                    "isAliased": null,
                                    "isAutoIncrement": false,
                                    "isExpression": null,
                                    "isHidden": null,
                                    "isIdentity": false,
                                    "isKey": null,
                                    "isLong": false,
                                    "isReadOnly": false,
                                    "isUnique": false,
                                    "numericPrecision": 255,
                                    "numericScale": 255,
                                    "udtAssemblyQualifiedName": null,
                                    "dataType": "System.String, System.Private.CoreLib, Version=4.0.0.0, Culture=neutral, PublicKeyToken=7cec85d7bea7798e",
                                    "dataTypeName": "nvarchar"
                                },
                                {
                                    "isBytes": false,
                                    "isChars": true,
                                    "isSqlVariant": false,
                                    "isUdt": false,
                                    "isXml": false,
                                    "isJson": false,
                                    "sqlDbType": 12,
                                    "isHierarchyId": false,
                                    "isSqlXmlType": false,
                                    "isUnknownType": false,
                                    "isUpdatable": true,
                                    "allowDBNull": false,
                                    "baseCatalogName": null,
                                    "baseColumnName": null,
                                    "baseSchemaName": null,
                                    "baseServerName": null,
                                    "baseTableName": null,
                                    "columnName": "JobTitle",
                                    "columnOrdinal": 2,
                                    "columnSize": 50,
                                    "isAliased": null,
                                    "isAutoIncrement": false,
                                    "isExpression": null,
                                    "isHidden": null,
                                    "isIdentity": false,
                                    "isKey": null,
                                    "isLong": false,
                                    "isReadOnly": false,
                                    "isUnique": false,
                                    "numericPrecision": 255,
                                    "numericScale": 255,
                                    "udtAssemblyQualifiedName": null,
                                    "dataType": "System.String, System.Private.CoreLib, Version=4.0.0.0, Culture=neutral, PublicKeyToken=7cec85d7bea7798e",
                                    "dataTypeName": "nvarchar"
                                }
                            ],
                            "specialAction": {
                                "none": true,
                                "expectYukonXMLShowPlan": false
                            }
                        }
                    }
                }
            ],
            "execution_count": 4
        },
        {
            "cell_type": "markdown",
            "source": [
                "## 2\n",
                "\n",
                "Write a query displaying all the columns of the Production. ProductCostHistory table from the rows in which the standard cost is between the values of $10 and $13."
            ],
            "metadata": {
                "azdata_cell_guid": "bfb5ba0f-d0bb-4bf6-97b9-2a1b4721e6f0"
            }
        },
        {
            "cell_type": "code",
            "source": [
                "USE AdventureWorks2019\r\n",
                "SELECT ProductID, StartDate, EndDate, StandardCost, ModifiedDate\r\n",
                "FROM [Production].[ProductCostHistory]\r\n",
                "WHERE StandardCost BETWEEN 10 AND 13"
            ],
            "metadata": {
                "azdata_cell_guid": "aa5011ad-7ea2-4d0b-a117-2b9a52ac43b1"
            },
            "outputs": [
                {
                    "output_type": "display_data",
                    "data": {
                        "text/html": "(11 rows affected)"
                    },
                    "metadata": {}
                },
                {
                    "output_type": "display_data",
                    "data": {
                        "text/html": "Total execution time: 00:00:00.252"
                    },
                    "metadata": {}
                },
                {
                    "output_type": "execute_result",
                    "execution_count": 3,
                    "data": {
                        "application/vnd.dataresource+json": {
                            "schema": {
                                "fields": [
                                    {
                                        "name": "ProductID"
                                    },
                                    {
                                        "name": "StartDate"
                                    },
                                    {
                                        "name": "EndDate"
                                    },
                                    {
                                        "name": "StandardCost"
                                    },
                                    {
                                        "name": "ModifiedDate"
                                    }
                                ]
                            },
                            "data": [
                                {
                                    "0": "707",
                                    "1": "2011-05-31 00.00.00.000",
                                    "2": "2012-05-29 00.00.00.000",
                                    "3": "12,0278",
                                    "4": "2012-05-29 00.00.00.000"
                                },
                                {
                                    "0": "708",
                                    "1": "2011-05-31 00.00.00.000",
                                    "2": "2012-05-29 00.00.00.000",
                                    "3": "12,0278",
                                    "4": "2012-05-29 00.00.00.000"
                                },
                                {
                                    "0": "711",
                                    "1": "2011-05-31 00.00.00.000",
                                    "2": "2012-05-29 00.00.00.000",
                                    "3": "12,0278",
                                    "4": "2012-05-29 00.00.00.000"
                                },
                                {
                                    "0": "843",
                                    "1": "2012-05-30 00.00.00.000",
                                    "2": "2013-05-29 00.00.00.000",
                                    "3": "10,3125",
                                    "4": "2013-05-29 00.00.00.000"
                                },
                                {
                                    "0": "845",
                                    "1": "2012-05-30 00.00.00.000",
                                    "2": "2013-05-29 00.00.00.000",
                                    "3": "10,3084",
                                    "4": "2013-05-29 00.00.00.000"
                                },
                                {
                                    "0": "908",
                                    "1": "2013-05-30 00.00.00.000",
                                    "2": "NULL",
                                    "3": "12,0413",
                                    "4": "2013-05-16 00.00.00.000"
                                },
                                {
                                    "0": "911",
                                    "1": "2013-05-30 00.00.00.000",
                                    "2": "NULL",
                                    "3": "12,0413",
                                    "4": "2013-05-16 00.00.00.000"
                                },
                                {
                                    "0": "914",
                                    "1": "2013-05-30 00.00.00.000",
                                    "2": "NULL",
                                    "3": "12,0413",
                                    "4": "2013-05-16 00.00.00.000"
                                },
                                {
                                    "0": "929",
                                    "1": "2013-05-30 00.00.00.000",
                                    "2": "NULL",
                                    "3": "11,2163",
                                    "4": "2013-05-16 00.00.00.000"
                                },
                                {
                                    "0": "933",
                                    "1": "2013-05-30 00.00.00.000",
                                    "2": "NULL",
                                    "3": "12,1924",
                                    "4": "2013-05-16 00.00.00.000"
                                },
                                {
                                    "0": "934",
                                    "1": "2013-05-30 00.00.00.000",
                                    "2": "NULL",
                                    "3": "10,8423",
                                    "4": "2013-05-16 00.00.00.000"
                                }
                            ]
                        },
                        "text/html": "<table><tr><th>ProductID</th><th>StartDate</th><th>EndDate</th><th>StandardCost</th><th>ModifiedDate</th></tr><tr><td>707</td><td>2011-05-31 00.00.00.000</td><td>2012-05-29 00.00.00.000</td><td>12,0278</td><td>2012-05-29 00.00.00.000</td></tr><tr><td>708</td><td>2011-05-31 00.00.00.000</td><td>2012-05-29 00.00.00.000</td><td>12,0278</td><td>2012-05-29 00.00.00.000</td></tr><tr><td>711</td><td>2011-05-31 00.00.00.000</td><td>2012-05-29 00.00.00.000</td><td>12,0278</td><td>2012-05-29 00.00.00.000</td></tr><tr><td>843</td><td>2012-05-30 00.00.00.000</td><td>2013-05-29 00.00.00.000</td><td>10,3125</td><td>2013-05-29 00.00.00.000</td></tr><tr><td>845</td><td>2012-05-30 00.00.00.000</td><td>2013-05-29 00.00.00.000</td><td>10,3084</td><td>2013-05-29 00.00.00.000</td></tr><tr><td>908</td><td>2013-05-30 00.00.00.000</td><td>NULL</td><td>12,0413</td><td>2013-05-16 00.00.00.000</td></tr><tr><td>911</td><td>2013-05-30 00.00.00.000</td><td>NULL</td><td>12,0413</td><td>2013-05-16 00.00.00.000</td></tr><tr><td>914</td><td>2013-05-30 00.00.00.000</td><td>NULL</td><td>12,0413</td><td>2013-05-16 00.00.00.000</td></tr><tr><td>929</td><td>2013-05-30 00.00.00.000</td><td>NULL</td><td>11,2163</td><td>2013-05-16 00.00.00.000</td></tr><tr><td>933</td><td>2013-05-30 00.00.00.000</td><td>NULL</td><td>12,1924</td><td>2013-05-16 00.00.00.000</td></tr><tr><td>934</td><td>2013-05-30 00.00.00.000</td><td>NULL</td><td>10,8423</td><td>2013-05-16 00.00.00.000</td></tr></table>"
                    },
                    "metadata": {
                        "resultSet": {
                            "id": 0,
                            "batchId": 0,
                            "rowCount": 11,
                            "complete": true,
                            "columnInfo": [
                                {
                                    "isBytes": false,
                                    "isChars": false,
                                    "isSqlVariant": false,
                                    "isUdt": false,
                                    "isXml": false,
                                    "isJson": false,
                                    "sqlDbType": 8,
                                    "isHierarchyId": false,
                                    "isSqlXmlType": false,
                                    "isUnknownType": false,
                                    "isUpdatable": true,
                                    "allowDBNull": false,
                                    "baseCatalogName": null,
                                    "baseColumnName": null,
                                    "baseSchemaName": null,
                                    "baseServerName": null,
                                    "baseTableName": null,
                                    "columnName": "ProductID",
                                    "columnOrdinal": 0,
                                    "columnSize": 4,
                                    "isAliased": null,
                                    "isAutoIncrement": false,
                                    "isExpression": null,
                                    "isHidden": null,
                                    "isIdentity": false,
                                    "isKey": null,
                                    "isLong": false,
                                    "isReadOnly": false,
                                    "isUnique": false,
                                    "numericPrecision": 10,
                                    "numericScale": 255,
                                    "udtAssemblyQualifiedName": null,
                                    "dataType": "System.Int32, System.Private.CoreLib, Version=4.0.0.0, Culture=neutral, PublicKeyToken=7cec85d7bea7798e",
                                    "dataTypeName": "int"
                                },
                                {
                                    "isBytes": false,
                                    "isChars": false,
                                    "isSqlVariant": false,
                                    "isUdt": false,
                                    "isXml": false,
                                    "isJson": false,
                                    "sqlDbType": 4,
                                    "isHierarchyId": false,
                                    "isSqlXmlType": false,
                                    "isUnknownType": false,
                                    "isUpdatable": true,
                                    "allowDBNull": false,
                                    "baseCatalogName": null,
                                    "baseColumnName": null,
                                    "baseSchemaName": null,
                                    "baseServerName": null,
                                    "baseTableName": null,
                                    "columnName": "StartDate",
                                    "columnOrdinal": 1,
                                    "columnSize": 8,
                                    "isAliased": null,
                                    "isAutoIncrement": false,
                                    "isExpression": null,
                                    "isHidden": null,
                                    "isIdentity": false,
                                    "isKey": null,
                                    "isLong": false,
                                    "isReadOnly": false,
                                    "isUnique": false,
                                    "numericPrecision": 23,
                                    "numericScale": 3,
                                    "udtAssemblyQualifiedName": null,
                                    "dataType": "System.DateTime, System.Private.CoreLib, Version=4.0.0.0, Culture=neutral, PublicKeyToken=7cec85d7bea7798e",
                                    "dataTypeName": "datetime"
                                },
                                {
                                    "isBytes": false,
                                    "isChars": false,
                                    "isSqlVariant": false,
                                    "isUdt": false,
                                    "isXml": false,
                                    "isJson": false,
                                    "sqlDbType": 4,
                                    "isHierarchyId": false,
                                    "isSqlXmlType": false,
                                    "isUnknownType": false,
                                    "isUpdatable": true,
                                    "allowDBNull": true,
                                    "baseCatalogName": null,
                                    "baseColumnName": null,
                                    "baseSchemaName": null,
                                    "baseServerName": null,
                                    "baseTableName": null,
                                    "columnName": "EndDate",
                                    "columnOrdinal": 2,
                                    "columnSize": 8,
                                    "isAliased": null,
                                    "isAutoIncrement": false,
                                    "isExpression": null,
                                    "isHidden": null,
                                    "isIdentity": false,
                                    "isKey": null,
                                    "isLong": false,
                                    "isReadOnly": false,
                                    "isUnique": false,
                                    "numericPrecision": 23,
                                    "numericScale": 3,
                                    "udtAssemblyQualifiedName": null,
                                    "dataType": "System.DateTime, System.Private.CoreLib, Version=4.0.0.0, Culture=neutral, PublicKeyToken=7cec85d7bea7798e",
                                    "dataTypeName": "datetime"
                                },
                                {
                                    "isBytes": false,
                                    "isChars": false,
                                    "isSqlVariant": false,
                                    "isUdt": false,
                                    "isXml": false,
                                    "isJson": false,
                                    "sqlDbType": 9,
                                    "isHierarchyId": false,
                                    "isSqlXmlType": false,
                                    "isUnknownType": false,
                                    "isUpdatable": true,
                                    "allowDBNull": false,
                                    "baseCatalogName": null,
                                    "baseColumnName": null,
                                    "baseSchemaName": null,
                                    "baseServerName": null,
                                    "baseTableName": null,
                                    "columnName": "StandardCost",
                                    "columnOrdinal": 3,
                                    "columnSize": 8,
                                    "isAliased": null,
                                    "isAutoIncrement": false,
                                    "isExpression": null,
                                    "isHidden": null,
                                    "isIdentity": false,
                                    "isKey": null,
                                    "isLong": false,
                                    "isReadOnly": false,
                                    "isUnique": false,
                                    "numericPrecision": 19,
                                    "numericScale": 255,
                                    "udtAssemblyQualifiedName": null,
                                    "dataType": "System.Decimal, System.Private.CoreLib, Version=4.0.0.0, Culture=neutral, PublicKeyToken=7cec85d7bea7798e",
                                    "dataTypeName": "money"
                                },
                                {
                                    "isBytes": false,
                                    "isChars": false,
                                    "isSqlVariant": false,
                                    "isUdt": false,
                                    "isXml": false,
                                    "isJson": false,
                                    "sqlDbType": 4,
                                    "isHierarchyId": false,
                                    "isSqlXmlType": false,
                                    "isUnknownType": false,
                                    "isUpdatable": true,
                                    "allowDBNull": false,
                                    "baseCatalogName": null,
                                    "baseColumnName": null,
                                    "baseSchemaName": null,
                                    "baseServerName": null,
                                    "baseTableName": null,
                                    "columnName": "ModifiedDate",
                                    "columnOrdinal": 4,
                                    "columnSize": 8,
                                    "isAliased": null,
                                    "isAutoIncrement": false,
                                    "isExpression": null,
                                    "isHidden": null,
                                    "isIdentity": false,
                                    "isKey": null,
                                    "isLong": false,
                                    "isReadOnly": false,
                                    "isUnique": false,
                                    "numericPrecision": 23,
                                    "numericScale": 3,
                                    "udtAssemblyQualifiedName": null,
                                    "dataType": "System.DateTime, System.Private.CoreLib, Version=4.0.0.0, Culture=neutral, PublicKeyToken=7cec85d7bea7798e",
                                    "dataTypeName": "datetime"
                                }
                            ],
                            "specialAction": {
                                "none": true,
                                "expectYukonXMLShowPlan": false
                            }
                        }
                    }
                }
            ],
            "execution_count": 3
        },
        {
            "cell_type": "markdown",
            "source": [
                "## 3\n",
                "\n",
                "Rewrite the query you wrote in Question 1, changing it so that the employees who do not have the title “Research and Development Engineer” are displayed."
            ],
            "metadata": {
                "azdata_cell_guid": "07749899-6646-43e0-bd2e-e77a06885685"
            }
        },
        {
            "cell_type": "code",
            "source": [
                "USE AdventureWorks2019\r\n",
                "\r\n",
                "SELECT TOP(3) BusinessEntityID, LoginID, JobTitle\r\n",
                "FROM HumanResources.Employee\r\n",
                "WHERE JobTitle <> 'Research and Development Engineer'"
            ],
            "metadata": {
                "azdata_cell_guid": "26eac68a-f7cc-4642-947c-26855728d7f5"
            },
            "outputs": [
                {
                    "output_type": "display_data",
                    "data": {
                        "text/html": "(3 rows affected)"
                    },
                    "metadata": {}
                },
                {
                    "output_type": "display_data",
                    "data": {
                        "text/html": "Total execution time: 00:00:00.118"
                    },
                    "metadata": {}
                },
                {
                    "output_type": "execute_result",
                    "execution_count": 6,
                    "data": {
                        "application/vnd.dataresource+json": {
                            "schema": {
                                "fields": [
                                    {
                                        "name": "BusinessEntityID"
                                    },
                                    {
                                        "name": "LoginID"
                                    },
                                    {
                                        "name": "JobTitle"
                                    }
                                ]
                            },
                            "data": [
                                {
                                    "0": "1",
                                    "1": "adventure-works\\ken0",
                                    "2": "Chief Executive Officer"
                                },
                                {
                                    "0": "2",
                                    "1": "adventure-works\\terri0",
                                    "2": "Vice President of Engineering"
                                },
                                {
                                    "0": "3",
                                    "1": "adventure-works\\roberto0",
                                    "2": "Engineering Manager"
                                }
                            ]
                        },
                        "text/html": "<table><tr><th>BusinessEntityID</th><th>LoginID</th><th>JobTitle</th></tr><tr><td>1</td><td>adventure-works\\ken0</td><td>Chief Executive Officer</td></tr><tr><td>2</td><td>adventure-works\\terri0</td><td>Vice President of Engineering</td></tr><tr><td>3</td><td>adventure-works\\roberto0</td><td>Engineering Manager</td></tr></table>"
                    },
                    "metadata": {
                        "resultSet": {
                            "id": 0,
                            "batchId": 0,
                            "rowCount": 3,
                            "complete": true,
                            "columnInfo": [
                                {
                                    "isBytes": false,
                                    "isChars": false,
                                    "isSqlVariant": false,
                                    "isUdt": false,
                                    "isXml": false,
                                    "isJson": false,
                                    "sqlDbType": 8,
                                    "isHierarchyId": false,
                                    "isSqlXmlType": false,
                                    "isUnknownType": false,
                                    "isUpdatable": true,
                                    "allowDBNull": false,
                                    "baseCatalogName": null,
                                    "baseColumnName": null,
                                    "baseSchemaName": null,
                                    "baseServerName": null,
                                    "baseTableName": null,
                                    "columnName": "BusinessEntityID",
                                    "columnOrdinal": 0,
                                    "columnSize": 4,
                                    "isAliased": null,
                                    "isAutoIncrement": false,
                                    "isExpression": null,
                                    "isHidden": null,
                                    "isIdentity": false,
                                    "isKey": null,
                                    "isLong": false,
                                    "isReadOnly": false,
                                    "isUnique": false,
                                    "numericPrecision": 10,
                                    "numericScale": 255,
                                    "udtAssemblyQualifiedName": null,
                                    "dataType": "System.Int32, System.Private.CoreLib, Version=4.0.0.0, Culture=neutral, PublicKeyToken=7cec85d7bea7798e",
                                    "dataTypeName": "int"
                                },
                                {
                                    "isBytes": false,
                                    "isChars": true,
                                    "isSqlVariant": false,
                                    "isUdt": false,
                                    "isXml": false,
                                    "isJson": false,
                                    "sqlDbType": 12,
                                    "isHierarchyId": false,
                                    "isSqlXmlType": false,
                                    "isUnknownType": false,
                                    "isUpdatable": true,
                                    "allowDBNull": false,
                                    "baseCatalogName": null,
                                    "baseColumnName": null,
                                    "baseSchemaName": null,
                                    "baseServerName": null,
                                    "baseTableName": null,
                                    "columnName": "LoginID",
                                    "columnOrdinal": 1,
                                    "columnSize": 256,
                                    "isAliased": null,
                                    "isAutoIncrement": false,
                                    "isExpression": null,
                                    "isHidden": null,
                                    "isIdentity": false,
                                    "isKey": null,
                                    "isLong": false,
                                    "isReadOnly": false,
                                    "isUnique": false,
                                    "numericPrecision": 255,
                                    "numericScale": 255,
                                    "udtAssemblyQualifiedName": null,
                                    "dataType": "System.String, System.Private.CoreLib, Version=4.0.0.0, Culture=neutral, PublicKeyToken=7cec85d7bea7798e",
                                    "dataTypeName": "nvarchar"
                                },
                                {
                                    "isBytes": false,
                                    "isChars": true,
                                    "isSqlVariant": false,
                                    "isUdt": false,
                                    "isXml": false,
                                    "isJson": false,
                                    "sqlDbType": 12,
                                    "isHierarchyId": false,
                                    "isSqlXmlType": false,
                                    "isUnknownType": false,
                                    "isUpdatable": true,
                                    "allowDBNull": false,
                                    "baseCatalogName": null,
                                    "baseColumnName": null,
                                    "baseSchemaName": null,
                                    "baseServerName": null,
                                    "baseTableName": null,
                                    "columnName": "JobTitle",
                                    "columnOrdinal": 2,
                                    "columnSize": 50,
                                    "isAliased": null,
                                    "isAutoIncrement": false,
                                    "isExpression": null,
                                    "isHidden": null,
                                    "isIdentity": false,
                                    "isKey": null,
                                    "isLong": false,
                                    "isReadOnly": false,
                                    "isUnique": false,
                                    "numericPrecision": 255,
                                    "numericScale": 255,
                                    "udtAssemblyQualifiedName": null,
                                    "dataType": "System.String, System.Private.CoreLib, Version=4.0.0.0, Culture=neutral, PublicKeyToken=7cec85d7bea7798e",
                                    "dataTypeName": "nvarchar"
                                }
                            ],
                            "specialAction": {
                                "none": true,
                                "expectYukonXMLShowPlan": false
                            }
                        }
                    }
                }
            ],
            "execution_count": 6
        },
        {
            "cell_type": "markdown",
            "source": [
                "## 4\r\n",
                "Switch to the WideWorldImporters database for the remainder of the questions. Write a SELECT statement to return the CityName and LatestRecordedPopulation of the Application.Cities table. Limit (filter) the results to CityName equal to Simi Valley"
            ],
            "metadata": {
                "azdata_cell_guid": "44be253c-515c-40bb-8489-ce9e863c3829"
            }
        },
        {
            "cell_type": "code",
            "source": [
                "USE WideWorldImporters\n",
                "\n",
                "SELECT CityName, LatestRecordedPopulation\n",
                "FROM Application.Cities\n",
                "WHERE CityName = 'Simi Valley'"
            ],
            "metadata": {
                "azdata_cell_guid": "291db6d5-893c-42b7-a89d-bcb23149d883"
            },
            "outputs": [
                {
                    "output_type": "display_data",
                    "data": {
                        "text/html": "(1 row affected)"
                    },
                    "metadata": {}
                },
                {
                    "output_type": "display_data",
                    "data": {
                        "text/html": "Total execution time: 00:00:00.523"
                    },
                    "metadata": {}
                },
                {
                    "output_type": "execute_result",
                    "execution_count": 7,
                    "data": {
                        "application/vnd.dataresource+json": {
                            "schema": {
                                "fields": [
                                    {
                                        "name": "CityName"
                                    },
                                    {
                                        "name": "LatestRecordedPopulation"
                                    }
                                ]
                            },
                            "data": [
                                {
                                    "0": "Simi Valley",
                                    "1": "124237"
                                }
                            ]
                        },
                        "text/html": "<table><tr><th>CityName</th><th>LatestRecordedPopulation</th></tr><tr><td>Simi Valley</td><td>124237</td></tr></table>"
                    },
                    "metadata": {
                        "resultSet": {
                            "id": 0,
                            "batchId": 0,
                            "rowCount": 1,
                            "complete": false,
                            "columnInfo": [
                                {
                                    "isBytes": false,
                                    "isChars": true,
                                    "isSqlVariant": false,
                                    "isUdt": false,
                                    "isXml": false,
                                    "isJson": false,
                                    "sqlDbType": 12,
                                    "isHierarchyId": false,
                                    "isSqlXmlType": false,
                                    "isUnknownType": false,
                                    "isUpdatable": true,
                                    "allowDBNull": false,
                                    "baseCatalogName": null,
                                    "baseColumnName": null,
                                    "baseSchemaName": null,
                                    "baseServerName": null,
                                    "baseTableName": null,
                                    "columnName": "CityName",
                                    "columnOrdinal": 0,
                                    "columnSize": 50,
                                    "isAliased": null,
                                    "isAutoIncrement": false,
                                    "isExpression": null,
                                    "isHidden": null,
                                    "isIdentity": false,
                                    "isKey": null,
                                    "isLong": false,
                                    "isReadOnly": false,
                                    "isUnique": false,
                                    "numericPrecision": 255,
                                    "numericScale": 255,
                                    "udtAssemblyQualifiedName": null,
                                    "dataType": "System.String, System.Private.CoreLib, Version=4.0.0.0, Culture=neutral, PublicKeyToken=7cec85d7bea7798e",
                                    "dataTypeName": "nvarchar"
                                },
                                {
                                    "isBytes": false,
                                    "isChars": false,
                                    "isSqlVariant": false,
                                    "isUdt": false,
                                    "isXml": false,
                                    "isJson": false,
                                    "sqlDbType": 0,
                                    "isHierarchyId": false,
                                    "isSqlXmlType": false,
                                    "isUnknownType": false,
                                    "isUpdatable": true,
                                    "allowDBNull": true,
                                    "baseCatalogName": null,
                                    "baseColumnName": null,
                                    "baseSchemaName": null,
                                    "baseServerName": null,
                                    "baseTableName": null,
                                    "columnName": "LatestRecordedPopulation",
                                    "columnOrdinal": 1,
                                    "columnSize": 8,
                                    "isAliased": null,
                                    "isAutoIncrement": false,
                                    "isExpression": null,
                                    "isHidden": null,
                                    "isIdentity": false,
                                    "isKey": null,
                                    "isLong": false,
                                    "isReadOnly": false,
                                    "isUnique": false,
                                    "numericPrecision": 19,
                                    "numericScale": 255,
                                    "udtAssemblyQualifiedName": null,
                                    "dataType": "System.Int64, System.Private.CoreLib, Version=4.0.0.0, Culture=neutral, PublicKeyToken=7cec85d7bea7798e",
                                    "dataTypeName": "bigint"
                                }
                            ],
                            "specialAction": null
                        }
                    }
                }
            ],
            "execution_count": 7
        }
    ]
}